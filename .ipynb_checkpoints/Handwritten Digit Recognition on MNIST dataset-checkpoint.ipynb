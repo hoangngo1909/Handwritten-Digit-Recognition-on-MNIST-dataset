{
 "cells": [
  {
   "cell_type": "markdown",
   "id": "6fc03c05",
   "metadata": {},
   "source": [
    "## Handwritten Digit Recognition on MNIST dataset (25/10/2021 - NKH)"
   ]
  },
  {
   "cell_type": "code",
   "execution_count": 32,
   "id": "5c41f18e",
   "metadata": {},
   "outputs": [],
   "source": [
    "# 1. Import necessary library\n",
    "import numpy as np\n",
    "import matplotlib.pyplot as plt\n",
    "from keras.models import Sequential\n",
    "from keras.layers import Dense, Dropout, Activation, Flatten\n",
    "from keras.layers import Conv2D, MaxPooling2D\n",
    "from keras.utils import np_utils\n",
    "from keras.datasets import mnist\n"
   ]
  },
  {
   "cell_type": "code",
   "execution_count": 20,
   "id": "98dba359",
   "metadata": {},
   "outputs": [],
   "source": [
    "# 2. Loading data MINIST\n",
    "# MNIST dataset có 60.000 dữ liệu ở training set ở trong MNIST, \n",
    "# ta sẽ chia ra 50.000 dữ liệu cho training set và 10.000 dữ liệu cho validation set. \n",
    "# Vẫn giữ nguyên 10.000 dữ liệu của test set.\n",
    "# Bộ dữ liệu đều là ảnh xám nên không có 3 kênh RGB, chỉ có 60.000 dữ liệu training, mỗi ảnh kích thước (28x28)\n",
    "(X_train, Y_train), (X_test, Y_test) = mnist.load_data()\n",
    "\n",
    "# 50.000 dữ liệu cho training\n",
    "X_train, Y_train = X_train[:50000, :], Y_train[:50000]\n",
    "# 10.000 dữ liệu cho validation (từ 50000 - 60000)\n",
    "X_val, Y_val = X_train[50000:60000, :], Y_train[50000:60000]"
   ]
  },
  {
   "cell_type": "code",
   "execution_count": 21,
   "id": "710d722b",
   "metadata": {},
   "outputs": [
    {
     "data": {
      "text/plain": [
       "<matplotlib.image.AxesImage at 0x14778a36520>"
      ]
     },
     "execution_count": 21,
     "metadata": {},
     "output_type": "execute_result"
    },
    {
     "data": {
      "image/png": "[encoded data removed]",
      "text/plain": [
       "<Figure size 432x288 with 1 Axes>"
      ]
     },
     "metadata": {
      "needs_background": "light"
     },
     "output_type": "display_data"
    }
   ],
   "source": [
    "plt.imshow(X_train[0])"
   ]
  },
  {
   "cell_type": "code",
   "execution_count": 29,
   "id": "eb428f21",
   "metadata": {},
   "outputs": [],
   "source": [
    "# 3. Reshape the data to the exact size the keras needs\n",
    "X_train = X_train.reshape(X_train.shape[0],28,28, 1)\n",
    "X_test = X_test.reshape(X_test.shape[0],28,28, 1)\n",
    "X_val = X_val.reshape(X_val.shape[0],28,28, 1)"
   ]
  },
  {
   "cell_type": "code",
   "execution_count": 34,
   "id": "6b30d48e",
   "metadata": {},
   "outputs": [],
   "source": [
    "# 4. One hot ecoding lable (Y)\n",
    "Y1_train = np_utils.to_categorical(Y_train, 10)\n",
    "Y1_test = np_utils.to_categorical(Y_test, 10)\n",
    "Y1_val = np_utils.to_categorical(Y_val, 10)"
   ]
  },
  {
   "cell_type": "code",
   "execution_count": 35,
   "id": "23e342fc",
   "metadata": {},
   "outputs": [
    {
     "name": "stdout",
     "output_type": "stream",
     "text": [
      "Initial Y Data:  5\n",
      "One hot ecoding lable Y Data:  [0. 0. 0. 0. 0. 1. 0. 0. 0. 0.]\n"
     ]
    }
   ],
   "source": [
    "print(\"Initial Y Data: \", Y_train[0])\n",
    "print(\"One hot ecoding lable Y Data: \", Y1_train[0])"
   ]
  },
  {
   "cell_type": "code",
   "execution_count": 37,
   "id": "a0f89641",
   "metadata": {
    "scrolled": true
   },
   "outputs": [
    {
     "name": "stdout",
     "output_type": "stream",
     "text": [
      "Model: \"sequential_1\"\n",
      "_________________________________________________________________\n",
      "Layer (type)                 Output Shape              Param #   \n",
      "=================================================================\n",
      "conv2d_2 (Conv2D)            (None, 26, 26, 32)        320       \n",
      "_________________________________________________________________\n",
      "conv2d_3 (Conv2D)            (None, 24, 24, 32)        9248      \n",
      "_________________________________________________________________\n",
      "max_pooling2d_1 (MaxPooling2 (None, 12, 12, 32)        0         \n",
      "_________________________________________________________________\n",
      "flatten_1 (Flatten)          (None, 4608)              0         \n",
      "_________________________________________________________________\n",
      "dense_2 (Dense)              (None, 128)               589952    \n",
      "_________________________________________________________________\n",
      "dense_3 (Dense)              (None, 10)                1290      \n",
      "=================================================================\n",
      "Total params: 600,810\n",
      "Trainable params: 600,810\n",
      "Non-trainable params: 0\n",
      "_________________________________________________________________\n"
     ]
    }
   ],
   "source": [
    "# 5. Build a model\n",
    "\n",
    "# 5.1. Define a model\n",
    "model = Sequential()\n",
    "\n",
    "# 5.2. Add a Convolution layer with 32 kernels, kernel shape: 3x3\n",
    "# Using \"Sigmoid\" for activation function, define input shape for the first layer.\n",
    "model.add(Conv2D(32, (3,3), activation = \"sigmoid\", input_shape = (28, 28, 1)))\n",
    "\n",
    "# 5.3. Add a Convolution layer\n",
    "model.add(Conv2D(32, (3,3), activation = \"sigmoid\"))\n",
    "\n",
    "# 5.4. Add a Max pooling layer\n",
    "model.add(MaxPooling2D(pool_size = (2,2)))\n",
    "\n",
    "# 5.5. Add a Flatten layer to convert from tensor to vector\n",
    "model.add(Flatten())\n",
    "\n",
    "# 5.6. Add a Fully connected layer with 128 nodes and using sigmoid as activation function\n",
    "model.add(Dense(128, activation = \"sigmoid\"))\n",
    "\n",
    "# 5.7. Output layer with 10 nodes, using softmax as activation function\n",
    "model.add(Dense(10, activation = \"softmax\"))\n",
    "\n",
    "# Summary model\n",
    "model.summary()\n"
   ]
  },
  {
   "cell_type": "code",
   "execution_count": 38,
   "id": "323fc045",
   "metadata": {},
   "outputs": [],
   "source": [
    "# 6. Compile model, define loss function, optimizer\n",
    "model.compile (loss = \"categorical_crossentropy\",\n",
    "              optimizer = \"adam\",\n",
    "              metrics = [\"accuracy\"])"
   ]
  },
  {
   "cell_type": "code",
   "execution_count": 39,
   "id": "dd50937b",
   "metadata": {},
   "outputs": [
    {
     "name": "stdout",
     "output_type": "stream",
     "text": [
      "Epoch 1/10\n",
      "1563/1563 [==============================] - 57s 36ms/step - loss: 0.2673 - accuracy: 0.9262\n",
      "Epoch 2/10\n",
      "1563/1563 [==============================] - 57s 36ms/step - loss: 0.0563 - accuracy: 0.9840\n",
      "Epoch 3/10\n",
      "1563/1563 [==============================] - 57s 37ms/step - loss: 0.0343 - accuracy: 0.9901\n",
      "Epoch 4/10\n",
      "1563/1563 [==============================] - 57s 36ms/step - loss: 0.0236 - accuracy: 0.9932\n",
      "Epoch 5/10\n",
      "1563/1563 [==============================] - 57s 36ms/step - loss: 0.0151 - accuracy: 0.9957\n",
      "Epoch 6/10\n",
      "1563/1563 [==============================] - 57s 36ms/step - loss: 0.0110 - accuracy: 0.9970\n",
      "Epoch 7/10\n",
      "1563/1563 [==============================] - 57s 36ms/step - loss: 0.0072 - accuracy: 0.9981\n",
      "Epoch 8/10\n",
      "1563/1563 [==============================] - 57s 36ms/step - loss: 0.0050 - accuracy: 0.9988\n",
      "Epoch 9/10\n",
      "1563/1563 [==============================] - 57s 36ms/step - loss: 0.0043 - accuracy: 0.9992\n",
      "Epoch 10/10\n",
      "1563/1563 [==============================] - 57s 36ms/step - loss: 0.0041 - accuracy: 0.9990\n"
     ]
    }
   ],
   "source": [
    "# 7. Training model with data\n",
    "H = model.fit(X_train, Y1_train, validation_data=(X_val, Y1_val), batch_size = 32, epochs = 10, verbose = 1)"
   ]
  },
  {
   "cell_type": "code",
   "execution_count": 46,
   "id": "9591067b",
   "metadata": {},
   "outputs": [
    {
     "name": "stdout",
     "output_type": "stream",
     "text": [
      "[0.038425978273153305, 0.9890999794006348]\n"
     ]
    }
   ],
   "source": [
    "# 8. Evaluate model with Testing\n",
    "score = model.evaluate(X_test, Y1_test, verbose = 0)\n",
    "print(score)"
   ]
  },
  {
   "cell_type": "code",
   "execution_count": 52,
   "id": "6e95d7b3",
   "metadata": {},
   "outputs": [
    {
     "name": "stdout",
     "output_type": "stream",
     "text": [
      "Value Prediction:  8\n"
     ]
    },
    {
     "data": {
      "image/png": "[encoded data removed]",
      "text/plain": [
       "<Figure size 432x288 with 1 Axes>"
      ]
     },
     "metadata": {
      "needs_background": "light"
     },
     "output_type": "display_data"
    }
   ],
   "source": [
    "# 9. Testing\n",
    "plt.imshow(X_test[1234].reshape(28, 28), cmap = \"gray\")\n",
    "\n",
    "y_predict = model.predict(X_test[1234].reshape(1, 28, 28, 1))\n",
    "print (\"Value Prediction: \", np.argmax(y_predict))"
   ]
  },
  {
   "cell_type": "code",
   "execution_count": null,
   "id": "fddb5501",
   "metadata": {},
   "outputs": [],
   "source": []
  }
 ],
 "metadata": {
  "kernelspec": {
   "display_name": "Python 3",
   "language": "python",
   "name": "python3"
  },
  "language_info": {
   "codemirror_mode": {
    "name": "ipython",
    "version": 3
   },
   "file_extension": ".py",
   "mimetype": "text/x-python",
   "name": "python",
   "nbconvert_exporter": "python",
   "pygments_lexer": "ipython3",
   "version": "3.8.8"
  }
 },
 "nbformat": 4,
 "nbformat_minor": 5
}
